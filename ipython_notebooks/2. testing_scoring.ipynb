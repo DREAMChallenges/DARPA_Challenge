{
 "cells": [
  {
   "cell_type": "code",
   "execution_count": 46,
   "metadata": {
    "collapsed": false
   },
   "outputs": [],
   "source": [
    "import synapseclient\n",
    "import os\n",
    "import sys\n",
    "import pandas\n",
    "import numpy as np\n",
    "\n",
    "sys.path.append(\"/Users/apratap/dev/appys/lib/\")"
   ]
  },
  {
   "cell_type": "code",
   "execution_count": 3,
   "metadata": {
    "collapsed": false
   },
   "outputs": [
    {
     "name": "stdout",
     "output_type": "stream",
     "text": [
      "Welcome, Abhishek Pratap!\n",
      "\n"
     ]
    }
   ],
   "source": [
    "syn = synapseclient.login()"
   ]
  },
  {
   "cell_type": "code",
   "execution_count": 47,
   "metadata": {
    "collapsed": true
   },
   "outputs": [],
   "source": [
    "import utils"
   ]
  },
  {
   "cell_type": "markdown",
   "metadata": {},
   "source": [
    "### Gold Standards"
   ]
  },
  {
   "cell_type": "code",
   "execution_count": 10,
   "metadata": {
    "collapsed": false
   },
   "outputs": [],
   "source": [
    "gs_sc1 = pandas.read_csv(syn.get('syn5705153').path)\n",
    "gs_sc2 = pandas.read_csv(syn.get('syn5705154').path)\n",
    "gs_sc3 = pandas.read_csv(syn.get('syn5705155').path)"
   ]
  },
  {
   "cell_type": "markdown",
   "metadata": {},
   "source": [
    "### Submission Templates"
   ]
  },
  {
   "cell_type": "code",
   "execution_count": 12,
   "metadata": {
    "collapsed": false
   },
   "outputs": [
    {
     "name": "stdout",
     "output_type": "stream",
     "text": [
      "Downloading  [####################]100.00%     247.0bytes/247.0bytes IDResilienceChallenge_SubmissionTemplate_SHEDDING_SC1.csv Done...\n",
      "Downloaded   [####################]100.00%     247.0bytes/247.0bytes IDResilienceChallenge_SubmissionTemplate_SHEDDING_SC1.csv Done...\n",
      "Downloading  [####################]100.00%     250.0bytes/250.0bytes IDResilienceChallenge_SubmissionTemplate_SYMPTOMATIC_SC2.csv Done...\n",
      "Downloaded   [####################]100.00%     250.0bytes/250.0bytes IDResilienceChallenge_SubmissionTemplate_SYMPTOMATIC_SC2.csv Done...\n",
      "Downloading  [####################]100.00%     252.0bytes/252.0bytes IDResilienceChallenge_SubmissionTemplate_LOGSYMPTSCORE_SC3.csv Done...\n",
      "Downloaded   [####################]100.00%     252.0bytes/252.0bytes IDResilienceChallenge_SubmissionTemplate_LOGSYMPTSCORE_SC3.csv Done...\n",
      "    "
     ]
    }
   ],
   "source": [
    "st_sc1 = pandas.read_csv(syn.get('syn5705157').path)\n",
    "st_sc2 = pandas.read_csv(syn.get('syn5705158').path)\n",
    "st_sc3 = pandas.read_csv(syn.get('syn5705159').path)\n"
   ]
  },
  {
   "cell_type": "markdown",
   "metadata": {},
   "source": [
    "### SC-1"
   ]
  },
  {
   "cell_type": "code",
   "execution_count": 72,
   "metadata": {
    "collapsed": false
   },
   "outputs": [],
   "source": [
    "sub1 = st_sc1.copy(deep=True)\n",
    "sub1['SHEDDING_SC1'] = np.random.randint(0,2,st_sc1.shape[0])\n",
    "sub1.to_csv('q1_sub1.csv' , sep=\",\", header=True, index=False)\n",
    "\n",
    "sub2 = st_sc1.copy(deep=True)\n",
    "sub2['SHEDDING_SC1'] = np.random.uniform(-1,1,st_sc1.shape[0])\n",
    "sub2.to_csv('q1_sub2.csv' , sep=\",\", header=True, index=False)\n",
    "\n",
    "#missing row\n",
    "sub3 = st_sc1.copy(deep=True)\n",
    "sub3['SHEDDING_SC1'] = np.random.randint( 0, 2, st_sc1.shape[0])\n",
    "sub3 = sub3.ix[3:,:]\n",
    "sub3.to_csv('q1_sub3_missinrows.csv' , sep=\",\", header=True, index=False)\n",
    "\n",
    "#additional non-requried entries\n",
    "sub4 = st_sc1.copy(deep=True)\n",
    "sub4['SHEDDING_SC1'] = np.random.randint( 0, 2, st_sc1.shape[0])\n",
    "#add a dummy row\n",
    "sub4.ix[sub4.shape[0]] = ['4545-4545',1]\n",
    "sub4.to_csv('q1_sub4_additionalrow.csv' , sep=\",\", header=True, index=False)"
   ]
  },
  {
   "cell_type": "code",
   "execution_count": 75,
   "metadata": {
    "collapsed": false
   },
   "outputs": [
    {
     "name": "stdout",
     "output_type": "stream",
     "text": [
      "[get_FilesList]: Found 4 files at /Users/apratap/Dropbox/dev/DARPA_ID_Challenge/ipython_notebooks\n",
      "\n",
      "##################################################\n",
      " Uploading file to Synapse storage \n",
      "##################################################\n",
      "Uploading [####################]100.00%     224.0bytes/224.0bytes q1_sub1.csv Done...\n",
      "    \n",
      "##################################################\n",
      " Uploading file to Synapse storage \n",
      "##################################################\n",
      "Uploading [####################]100.00%     541.0bytes/541.0bytes q1_sub2.csv Done...\n",
      "    \n",
      "##################################################\n",
      " Uploading file to Synapse storage \n",
      "##################################################\n",
      "Uploading [####################]100.00%     203.0bytes/203.0bytes q1_sub3_missinrows.csv Done...\n",
      "    \n",
      "##################################################\n",
      " Uploading file to Synapse storage \n",
      "##################################################\n",
      "Uploading [####################]100.00%     236.0bytes/236.0bytes q1_sub4_additionalrow.csv Done...\n",
      "    "
     ]
    }
   ],
   "source": [
    "dummy_pred_files = utils.get_FilesList(os.getcwd(), pattern='q1.*csv')\n",
    "q1_synids = [ syn.store(synapseclient.File(f,parent='syn5822569')).id  for f in dummy_pred_files ]"
   ]
  },
  {
   "cell_type": "markdown",
   "metadata": {},
   "source": [
    "### SC-2"
   ]
  },
  {
   "cell_type": "code",
   "execution_count": 77,
   "metadata": {
    "collapsed": false
   },
   "outputs": [],
   "source": [
    "sub1 = st_sc2.copy(deep=True)\n",
    "sub1['SYMPTOMATIC_SC2'] = np.random.randint(0,2,st_sc1.shape[0])\n",
    "sub1.to_csv('q2_sub1.csv' , sep=\",\", header=True, index=False)\n",
    "\n",
    "sub2 = st_sc2.copy(deep=True)\n",
    "sub2['SYMPTOMATIC_SC2'] = np.random.uniform(-1,1,st_sc1.shape[0])\n",
    "sub2.to_csv('q2_sub2.csv' , sep=\",\", header=True, index=False)\n",
    "\n",
    "#missing row\n",
    "sub3 = st_sc2.copy(deep=True)\n",
    "sub3['SYMPTOMATIC_SC2'] = np.random.randint( 0, 2, st_sc1.shape[0])\n",
    "sub3 = sub3.ix[3:,:]\n",
    "sub3.to_csv('q2_sub3_missingrows.csv' , sep=\",\", header=True, index=False)\n",
    "\n",
    "#additional non-requried entries\n",
    "sub4 = st_sc2.copy(deep=True)\n",
    "sub4['SYMPTOMATIC_SC2'] = np.random.randint( 0, 2, st_sc1.shape[0])\n",
    "#add a dummy row\n",
    "sub4.ix[sub4.shape[0]] = ['4545-4545',1]\n",
    "sub4.to_csv('q2_sub4_additionalrow.csv' , sep=\",\", header=True, index=False)"
   ]
  },
  {
   "cell_type": "code",
   "execution_count": 78,
   "metadata": {
    "collapsed": false
   },
   "outputs": [
    {
     "name": "stdout",
     "output_type": "stream",
     "text": [
      "[get_FilesList]: Found 4 files at /Users/apratap/Dropbox/dev/DARPA_ID_Challenge/ipython_notebooks\n",
      "\n",
      "##################################################\n",
      " Uploading file to Synapse storage \n",
      "##################################################\n",
      "Uploading [####################]100.00%     227.0bytes/227.0bytes q2_sub1.csv Done...\n",
      "    \n",
      "##################################################\n",
      " Uploading file to Synapse storage \n",
      "##################################################\n",
      "Uploading [####################]100.00%     544.0bytes/544.0bytes q2_sub2.csv Done...\n",
      "    \n",
      "##################################################\n",
      " Uploading file to Synapse storage \n",
      "##################################################\n",
      "Uploading [####################]100.00%     206.0bytes/206.0bytes q2_sub3_missingrows.csv Done...\n",
      "    \n",
      "##################################################\n",
      " Uploading file to Synapse storage \n",
      "##################################################\n",
      "Uploading [####################]100.00%     239.0bytes/239.0bytes q2_sub4_additionalrow.csv Done...\n",
      "    "
     ]
    }
   ],
   "source": [
    "dummy_pred_files = utils.get_FilesList(os.getcwd(), pattern='q2.*csv')\n",
    "q2_synids = [ syn.store(synapseclient.File(f,parent='syn5822569')).id  for f in dummy_pred_files ]"
   ]
  },
  {
   "cell_type": "markdown",
   "metadata": {},
   "source": [
    "### SC3"
   ]
  },
  {
   "cell_type": "code",
   "execution_count": 81,
   "metadata": {
    "collapsed": false
   },
   "outputs": [],
   "source": [
    "sub1 = st_sc3.copy(deep=True)\n",
    "sub1['LOGSYMPTSCORE_SC3'] = np.random.uniform( -1, 1, st_sc3.shape[0])\n",
    "sub1.to_csv('q3_sub1.csv' , sep=\",\", header=True, index=False)\n",
    "\n",
    "#missing value /NAs\n",
    "sub2 = st_sc3.copy(deep=True)\n",
    "sub2['LOGSYMPTSCORE_SC3'] = np.random.uniform( -1, 1, st_sc3.shape[0])\n",
    "sub2.ix[0:4,1] = 'NA'\n",
    "sub2.to_csv('q3_sub2_NAs.csv' , sep=\",\", header=True, index=False)\n",
    "\n",
    "#missing row\n",
    "sub3 = st_sc3.copy(deep=True)\n",
    "sub3['LOGSYMPTSCORE_SC3'] = np.random.uniform( -1, 1, st_sc3.shape[0])\n",
    "sub3 = sub3.ix[3:,:]\n",
    "sub3.to_csv('q3_sub3_missinrows.csv' , sep=\",\", header=True, index=False)\n",
    "\n",
    "#additional non-requried entries\n",
    "sub4 = st_sc3.copy(deep=True)\n",
    "sub4['LOGSYMPTSCORE_SC3'] = np.random.uniform( -1, 1, st_sc3.shape[0])\n",
    "#add a dummy row\n",
    "sub4.ix[sub4.shape[0]] = ['4545-4545',0.3434]\n",
    "sub4.to_csv('q3_sub3_additionalrow.csv' , sep=\",\", header=True, index=False)"
   ]
  },
  {
   "cell_type": "code",
   "execution_count": 82,
   "metadata": {
    "collapsed": false
   },
   "outputs": [
    {
     "name": "stdout",
     "output_type": "stream",
     "text": [
      "[get_FilesList]: Found 4 files at /Users/apratap/Dropbox/dev/DARPA_ID_Challenge/ipython_notebooks\n",
      "\n",
      "##################################################\n",
      " Uploading file to Synapse storage \n",
      "##################################################\n",
      "Uploading [####################]100.00%     543.0bytes/543.0bytes q3_sub1.csv Done...\n",
      "    \n",
      "##################################################\n",
      " Uploading file to Synapse storage \n",
      "##################################################\n",
      "Uploading [####################]100.00%     556.0bytes/556.0bytes q3_sub2_NAs.csv Done...\n",
      "    \n",
      "##################################################\n",
      " Uploading file to Synapse storage \n",
      "##################################################\n",
      "Uploading [####################]100.00%     556.0bytes/556.0bytes q3_sub3_additionalrow.csv Done...\n",
      "    \n",
      "##################################################\n",
      " Uploading file to Synapse storage \n",
      "##################################################\n",
      "Uploading [####################]100.00%     474.0bytes/474.0bytes q3_sub3_missinrows.csv Done...\n",
      "    "
     ]
    }
   ],
   "source": [
    "dummy_pred_files = utils.get_FilesList(os.getcwd(), pattern='q3.*csv')\n",
    "q3_synids = [ syn.store(synapseclient.File(f,parent='syn5822569')).id  for f in dummy_pred_files ]"
   ]
  },
  {
   "cell_type": "code",
   "execution_count": 1,
   "metadata": {
    "collapsed": false
   },
   "outputs": [
    {
     "ename": "NameError",
     "evalue": "name 'q3_synids' is not defined",
     "output_type": "error",
     "traceback": [
      "\u001b[0;31m---------------------------------------------------------------------------\u001b[0m",
      "\u001b[0;31mNameError\u001b[0m                                 Traceback (most recent call last)",
      "\u001b[0;32m<ipython-input-1-6bfebbf7b411>\u001b[0m in \u001b[0;36m<module>\u001b[0;34m()\u001b[0m\n\u001b[0;32m----> 1\u001b[0;31m \u001b[0mq3_synids\u001b[0m\u001b[0;34m\u001b[0m\u001b[0m\n\u001b[0m",
      "\u001b[0;31mNameError\u001b[0m: name 'q3_synids' is not defined"
     ]
    }
   ],
   "source": [
    "q3_synids"
   ]
  },
  {
   "cell_type": "code",
   "execution_count": null,
   "metadata": {
    "collapsed": true
   },
   "outputs": [],
   "source": []
  }
 ],
 "metadata": {
  "kernelspec": {
   "display_name": "Python 2",
   "language": "python",
   "name": "python2"
  },
  "language_info": {
   "codemirror_mode": {
    "name": "ipython",
    "version": 2
   },
   "file_extension": ".py",
   "mimetype": "text/x-python",
   "name": "python",
   "nbconvert_exporter": "python",
   "pygments_lexer": "ipython2",
   "version": "2.7.11"
  }
 },
 "nbformat": 4,
 "nbformat_minor": 0
}
