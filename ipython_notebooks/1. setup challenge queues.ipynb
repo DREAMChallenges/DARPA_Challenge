{
 "cells": [
  {
   "cell_type": "code",
   "execution_count": 1,
   "metadata": {
    "collapsed": true
   },
   "outputs": [],
   "source": [
    "import synapseclient\n",
    "import os\n",
    "import sys\n",
    "import pandas"
   ]
  },
  {
   "cell_type": "code",
   "execution_count": 2,
   "metadata": {
    "collapsed": false
   },
   "outputs": [
    {
     "name": "stdout",
     "output_type": "stream",
     "text": [
      "Welcome, Abhishek Pratap!\n",
      "\n"
     ]
    }
   ],
   "source": [
    "syn = synapseclient.login()"
   ]
  },
  {
   "cell_type": "code",
   "execution_count": 3,
   "metadata": {
    "collapsed": true
   },
   "outputs": [],
   "source": [
    "DARPA_ID_Challenge_project_synid = 'syn5641757'"
   ]
  },
  {
   "cell_type": "markdown",
   "metadata": {},
   "source": [
    "### Setup Queues for SC -1,2,3"
   ]
  },
  {
   "cell_type": "code",
   "execution_count": 5,
   "metadata": {
    "collapsed": false
   },
   "outputs": [],
   "source": [
    "#SC1\n",
    "evaluation_q1 = synapseclient.Evaluation(name ='DARPA_ID_CHAL_SC1_QUEUE', \n",
    "                                         description=\"production queue for managing submissions for DARPA ID sub-challenge 1\",\n",
    "                                         status = \"OPEN\", contentSource = DARPA_ID_Challenge_project_synid)\n",
    "evaluation_q1 = syn.store(evaluation_q1)\n"
   ]
  },
  {
   "cell_type": "code",
   "execution_count": 9,
   "metadata": {
    "collapsed": false
   },
   "outputs": [
    {
     "data": {
      "text/plain": [
       "{'contentSource': u'syn5641757',\n",
       " u'createdOn': u'2016-03-23T21:46:37.011Z',\n",
       " 'description': u'production queue for managing submissions for DARPA ID sub-challenge 1',\n",
       " u'etag': u'56ade3a1-7cb0-4a17-a053-4afb8c1cad39',\n",
       " u'id': u'5821575',\n",
       " 'name': u'DARPA_ID_CHAL_SC1_QUEUE',\n",
       " u'ownerId': u'2166046',\n",
       " 'status': u'OPEN'}"
      ]
     },
     "execution_count": 9,
     "metadata": {},
     "output_type": "execute_result"
    }
   ],
   "source": [
    "evaluation_q1"
   ]
  },
  {
   "cell_type": "code",
   "execution_count": 6,
   "metadata": {
    "collapsed": true
   },
   "outputs": [],
   "source": [
    "#SC2\n",
    "evaluation_q2 = synapseclient.Evaluation(name ='DARPA_ID_CHAL_SC2_QUEUE', \n",
    "                                         description=\"production queue for managing submissions for DARPA ID sub-challenge 2\",\n",
    "                                         status = \"OPEN\", contentSource = DARPA_ID_Challenge_project_synid)\n",
    "evaluation_q2 = syn.store(evaluation_q2)"
   ]
  },
  {
   "cell_type": "code",
   "execution_count": 12,
   "metadata": {
    "collapsed": false
   },
   "outputs": [
    {
     "data": {
      "text/plain": [
       "{'contentSource': u'syn5641757',\n",
       " u'createdOn': u'2016-03-23T21:47:01.632Z',\n",
       " 'description': u'production queue for managing submissions for DARPA ID sub-challenge 2',\n",
       " u'etag': u'8a2ba17a-3fcf-4a47-ba56-c9331706e071',\n",
       " u'id': u'5821583',\n",
       " 'name': u'DARPA_ID_CHAL_SC2_QUEUE',\n",
       " u'ownerId': u'2166046',\n",
       " 'status': u'OPEN'}"
      ]
     },
     "execution_count": 12,
     "metadata": {},
     "output_type": "execute_result"
    }
   ],
   "source": [
    "evaluation_q2"
   ]
  },
  {
   "cell_type": "code",
   "execution_count": 7,
   "metadata": {
    "collapsed": true
   },
   "outputs": [],
   "source": [
    "#SC3\n",
    "evaluation_q3 = synapseclient.Evaluation(name ='DARPA_ID_CHAL_SC3_QUEUE', \n",
    "                                         description=\"production queue for managing submissions for DARPA ID sub-challenge 3\",\n",
    "                                         status = \"OPEN\", contentSource = DARPA_ID_Challenge_project_synid)\n",
    "evaluation_q3 = syn.store(evaluation_q3)\n"
   ]
  },
  {
   "cell_type": "code",
   "execution_count": 14,
   "metadata": {
    "collapsed": false
   },
   "outputs": [
    {
     "data": {
      "text/plain": [
       "{'contentSource': u'syn5641757',\n",
       " u'createdOn': u'2016-03-23T21:49:56.991Z',\n",
       " 'description': u'production queue for managing submissions for DARPA ID sub-challenge 3',\n",
       " u'etag': u'31518491-b5c9-4d97-9357-b8f6c391ef98',\n",
       " u'id': u'5821621',\n",
       " 'name': u'DARPA_ID_CHAL_SC3_QUEUE',\n",
       " u'ownerId': u'2166046',\n",
       " 'status': u'OPEN'}"
      ]
     },
     "execution_count": 14,
     "metadata": {},
     "output_type": "execute_result"
    }
   ],
   "source": [
    "evaluation_q3"
   ]
  },
  {
   "cell_type": "code",
   "execution_count": null,
   "metadata": {
    "collapsed": true
   },
   "outputs": [],
   "source": []
  }
 ],
 "metadata": {
  "kernelspec": {
   "display_name": "Python 2",
   "language": "python",
   "name": "python2"
  },
  "language_info": {
   "codemirror_mode": {
    "name": "ipython",
    "version": 2
   },
   "file_extension": ".py",
   "mimetype": "text/x-python",
   "name": "python",
   "nbconvert_exporter": "python",
   "pygments_lexer": "ipython2",
   "version": "2.7.11"
  }
 },
 "nbformat": 4,
 "nbformat_minor": 0
}
